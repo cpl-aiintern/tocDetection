{
  "nbformat": 4,
  "nbformat_minor": 0,
  "metadata": {
    "accelerator": "GPU",
    "colab": {
      "name": "Untitled1.ipynb",
      "provenance": [],
      "collapsed_sections": []
    },
    "kernelspec": {
      "display_name": "Python 3",
      "language": "python",
      "name": "python3"
    },
    "language_info": {
      "codemirror_mode": {
        "name": "ipython",
        "version": 3
      },
      "file_extension": ".py",
      "mimetype": "text/x-python",
      "name": "python",
      "nbconvert_exporter": "python",
      "pygments_lexer": "ipython3",
      "version": "3.8.3"
    }
  },
  "cells": [
    {
      "cell_type": "code",
      "metadata": {
        "id": "orzSFULxjxvg",
        "colab_type": "code",
        "colab": {
          "base_uri": "https://localhost:8080/",
          "height": 131
        },
        "outputId": "f6961d46-52b2-42a8-a747-5e29e4cad925"
      },
      "source": [
        "!git clone 'https://github.com/open-mmlab/mmdetection.git'"
      ],
      "execution_count": null,
      "outputs": [
        {
          "output_type": "stream",
          "text": [
            "Cloning into 'mmdetection'...\n",
            "remote: Enumerating objects: 7, done.\u001b[K\n",
            "remote: Counting objects: 100% (7/7), done.\u001b[K\n",
            "remote: Compressing objects: 100% (7/7), done.\u001b[K\n",
            "remote: Total 12618 (delta 0), reused 0 (delta 0), pack-reused 12611\u001b[K\n",
            "Receiving objects: 100% (12618/12618), 11.56 MiB | 21.51 MiB/s, done.\n",
            "Resolving deltas: 100% (8660/8660), done.\n"
          ],
          "name": "stdout"
        }
      ]
    },
    {
      "cell_type": "code",
      "metadata": {
        "id": "1N1F6J6jkDhu",
        "colab_type": "code",
        "colab": {}
      },
      "source": [
        "%cd \"mmdetection\"\n",
        "!pip install -r \"requirements/optional.txt\"\n",
        "!python setup.py install\n",
        "!python setup.py develop"
      ],
      "execution_count": null,
      "outputs": []
    },
    {
      "cell_type": "code",
      "metadata": {
        "id": "3RW8Yaf5mOEV",
        "colab_type": "code",
        "colab": {}
      },
      "source": [
        "!pip install mmcv-full"
      ],
      "execution_count": null,
      "outputs": []
    },
    {
      "cell_type": "code",
      "metadata": {
        "id": "_y6s3m0Ml-6o",
        "colab_type": "code",
        "colab": {}
      },
      "source": [
        "!git clone https://github.com/DevashishPrasad/CascadeTabNet.git\n",
        "!gdown \"https://drive.google.com/u/0/uc?id=1-QieHkR1Q7CXuBu4fp3rYrvDG9j26eFT\""
      ],
      "execution_count": null,
      "outputs": []
    },
    {
      "cell_type": "code",
      "metadata": {
        "id": "gRhseLRxmLkQ",
        "colab_type": "code",
        "colab": {}
      },
      "source": [
        "from mmdet.apis import init_detector, inference_detector, show_result_pyplot,show_result"
      ],
      "execution_count": null,
      "outputs": []
    },
    {
      "cell_type": "code",
      "metadata": {
        "colab_type": "code",
        "id": "5ppanuaY1q47",
        "colab": {}
      },
      "source": [
        "# !pip install torch==1.4.0+cu100 torchvision==0.5.0+cu100 -f https://download.pytorch.org/whl/torch_stable.html\n",
        "!pip install -q mmcv-full terminaltables pillow\n",
        "!git clone --branch v1.2.0 'https://github.com/open-mmlab/mmdetection.git'\n",
        "%cd \"mmdetection\"\n",
        "!pip install -r \"requirements/optional.txt\"\n",
        "!python setup.py install\n",
        "!python setup.py develop\n",
        "!pip install -r {\"requirements.txt\"}\n",
        "%cd ..\n",
        "!git clone https://github.com/DevashishPrasad/CascadeTabNet.git\n",
        "!gdown \"https://drive.google.com/u/0/uc?id=1-QieHkR1Q7CXuBu4fp3rYrvDG9j26eFT\"\n",
        "!unzip tesing_pdfs.zip\n",
        "!pip install pdf2image\n",
        "!pip install pdfminer\n",
        "!apt-get install poppler-utils"
      ],
      "execution_count": null,
      "outputs": []
    },
    {
      "cell_type": "code",
      "metadata": {
        "id": "JxiigW0VE4U1",
        "colab_type": "code",
        "colab": {}
      },
      "source": [
        "!unzip tesing_pdfs.zip\n",
        "!pip install pdf2image\n",
        "!pip install pdfminer\n",
        "!apt-get install poppler-utils"
      ],
      "execution_count": null,
      "outputs": []
    },
    {
      "cell_type": "code",
      "metadata": {
        "colab_type": "code",
        "id": "ndl_XB0MVgPd",
        "colab": {}
      },
      "source": [
        "from mmdet.apis import init_detector, inference_detector, show_result_pyplot,show_result\n",
        "import mmcv"
      ],
      "execution_count": null,
      "outputs": []
    },
    {
      "cell_type": "code",
      "metadata": {
        "id": "9VL3nv8HcdT6",
        "colab_type": "code",
        "colab": {}
      },
      "source": [
        "import numpy as np\n",
        "from utils import pdf2xml,pdf2img\n",
        "import os"
      ],
      "execution_count": null,
      "outputs": []
    },
    {
      "cell_type": "code",
      "metadata": {
        "id": "i5NN2FfgkBFx",
        "colab_type": "code",
        "colab": {}
      },
      "source": [
        "!mv tesing_pdfs pdfData"
      ],
      "execution_count": null,
      "outputs": []
    },
    {
      "cell_type": "code",
      "metadata": {
        "id": "9NT-oELkm5KN",
        "colab_type": "code",
        "colab": {}
      },
      "source": [
        "!rm -r xmlData\n",
        "!rm -r imageData"
      ],
      "execution_count": null,
      "outputs": []
    },
    {
      "cell_type": "code",
      "metadata": {
        "id": "oL3UC-SPcdUB",
        "colab_type": "code",
        "colab": {}
      },
      "source": [
        "pdfFiles = os.listdir('pdfData')\n",
        "\n",
        "for file in pdfFiles:\n",
        "    # pdf2xml(file)\n",
        "    # pdf2img(file)\n",
        "    try:\n",
        "        pdf2xml(file)\n",
        "    except Exception:\n",
        "        print(file,\"cannot be parsed into XML\")\n",
        "    try:\n",
        "        pdf2img(file)\n",
        "    except Exception:\n",
        "        print(file,\"cannot be converted into image\")"
      ],
      "execution_count": null,
      "outputs": []
    },
    {
      "cell_type": "code",
      "metadata": {
        "id": "9DKzp2_UriMk",
        "colab_type": "code",
        "colab": {}
      },
      "source": [
        "import cv2"
      ],
      "execution_count": null,
      "outputs": []
    },
    {
      "cell_type": "code",
      "metadata": {
        "id": "zEwqnlCXcdUH",
        "colab_type": "code",
        "colab": {}
      },
      "source": [
        "# Load model\n",
        "config_file = '/content/CascadeTabNet/Config/cascade_mask_rcnn_hrnetv2p_w32_20e.py'\n",
        "checkpoint_file = '/content/epoch_36.pth'\n",
        "model = init_detector(config_file, checkpoint_file, device='cuda:0')\n",
        "\n",
        "# Test a single image \n",
        "img = \"/content/imageData/mu-2218-lia-guidelines-on-pi-cp-and-bpd-mu2218-sentzip/a3a9384c-f7b2-45e7-b3a5-a1cf1f53b31e-001.tif\"\n",
        "\n",
        "# Run Inference\n",
        "result = inference_detector(model, img)\n",
        "\n",
        "# Visualization results\n",
        "show_result_pyplot(img, result,('Bordered', 'cell', 'Borderless'), score_thr=0.85)"
      ],
      "execution_count": null,
      "outputs": []
    },
    {
      "cell_type": "code",
      "metadata": {
        "id": "gTxzgwzBr2WE",
        "colab_type": "code",
        "colab": {}
      },
      "source": [
        "output_labels = ['Bordered', 'cell', 'Borderless']"
      ],
      "execution_count": null,
      "outputs": []
    },
    {
      "cell_type": "code",
      "metadata": {
        "id": "VGWYUgwrrVCa",
        "colab_type": "code",
        "colab": {}
      },
      "source": [
        "config_file = '/content/CascadeTabNet/Config/cascade_mask_rcnn_hrnetv2p_w32_20e.py'\n",
        "checkpoint_file = '/content/epoch_36.pth'\n",
        "model = init_detector(config_file, checkpoint_file, device='cuda:0')"
      ],
      "execution_count": null,
      "outputs": []
    },
    {
      "cell_type": "code",
      "metadata": {
        "id": "JNqa-xP3rYzL",
        "colab_type": "code",
        "colab": {}
      },
      "source": [
        "if not os.path.exists('markedImage'):\n",
        "    os.mkdir('markedImage')\n",
        "\n",
        "for folder in os.listdir(\"imageData\"):\n",
        "    folderPath = os.path.join(\"imageData\",folder)\n",
        "    targetPath = os.path.join(\"markedImage\",folder)\n",
        "    os.mkdir(targetPath)\n",
        "    for img in os.listdir(folderPath):\n",
        "        imgPath = os.path.join(folderPath,img)\n",
        "        result = inference_detector(model,imgPath)\n",
        "        bbox_result,segm_result = result\n",
        "        bboxes = np.vstack(bbox_result)\n",
        "        labels = [np.full(bbox.shape[0],i,dtype=np.int32) for i,bbox in enumerate(bbox_result)]\n",
        "        labels = np.concatenate(labels)\n",
        "        imgRead = cv2.imread(imgPath)\n",
        "        for (startX,startY,endX,endY,prob),label in zip(bboxes,labels):\n",
        "            if prob >0.8:\n",
        "                cv2.rectangle(imgRead,(startX,startY),(endX,endY),(0,255,0),2)\n",
        "                cv2.addWeighted(imgRead,0.3,imgRead,0.7,0,imgRead)\n",
        "                y = startY - 10 if startY - 10 >10 else startY + 10\n",
        "                cv2.putText(imgRead,output_labels[label]+\": \"+str(round(prob,2)),(int(startX),int(y)),\n",
        "                            cv2.FONT_HERSHEY_SIMPLEX,0.45,(0,255,0),1)\n",
        "                \n",
        "        cv2.imwrite(os.path.join(targetPath,img),imgRead)"
      ],
      "execution_count": null,
      "outputs": []
    },
    {
      "cell_type": "code",
      "metadata": {
        "id": "RRAVNZ4s0Za7",
        "colab_type": "code",
        "colab": {}
      },
      "source": [
        "!rm -r markedImage"
      ],
      "execution_count": null,
      "outputs": []
    },
    {
      "cell_type": "code",
      "metadata": {
        "id": "vge6wz9P9Y60",
        "colab_type": "code",
        "colab": {}
      },
      "source": [
        "import zipfile\n",
        "\n",
        "filePaths = []\n",
        "for root, directories, files in os.walk('markedImage'):\n",
        "    for filename in files:\n",
        "        # Create the full filepath by using os module.\n",
        "        filePath = os.path.join(root, filename)\n",
        "        filePaths.append(filePath)\n",
        "    \n",
        "zip_file = zipfile.ZipFile('markedImages.zip','w')\n",
        "with zip_file:\n",
        "    for filePath in filePaths:\n",
        "        zip_file.write(filePath)"
      ],
      "execution_count": null,
      "outputs": []
    },
    {
      "cell_type": "code",
      "metadata": {
        "id": "ahEiWqu3BE_G",
        "colab_type": "code",
        "colab": {}
      },
      "source": [
        "from google.colab import drive\n",
        "drive.mount('/content/drive')"
      ],
      "execution_count": null,
      "outputs": []
    },
    {
      "cell_type": "code",
      "metadata": {
        "colab_type": "code",
        "id": "mviWkE9-jidx",
        "colab": {}
      },
      "source": [
        "result = inference_detector(model,\"\")"
      ],
      "execution_count": null,
      "outputs": []
    },
    {
      "cell_type": "code",
      "metadata": {
        "id": "S04g49AZpr6R",
        "colab_type": "code",
        "colab": {
          "base_uri": "https://localhost:8080/",
          "height": 33
        },
        "outputId": "3d74a4c7-caaf-41ea-9da1-c725f04c903b"
      },
      "source": [
        "labels"
      ],
      "execution_count": null,
      "outputs": [
        {
          "output_type": "execute_result",
          "data": {
            "text/plain": [
              "array([1, 1, 1, 1, 1, 1, 1, 1, 1, 1, 1, 1, 2], dtype=int32)"
            ]
          },
          "metadata": {
            "tags": []
          },
          "execution_count": 17
        }
      ]
    },
    {
      "cell_type": "code",
      "metadata": {
        "id": "O-FjYr3Br7Yy",
        "colab_type": "code",
        "colab": {
          "base_uri": "https://localhost:8080/",
          "height": 33
        },
        "outputId": "6e0fec61-2f0a-49b8-8c2a-09d0ef6a8ac7"
      },
      "source": [
        "bboxes[0][4]"
      ],
      "execution_count": null,
      "outputs": [
        {
          "output_type": "execute_result",
          "data": {
            "text/plain": [
              "0.27184376"
            ]
          },
          "metadata": {
            "tags": []
          },
          "execution_count": 25
        }
      ]
    },
    {
      "cell_type": "code",
      "metadata": {
        "colab_type": "code",
        "id": "H7xqXZ_3tGWH",
        "colab": {}
      },
      "source": [
        "!rm -r xmlData\n",
        "!rm -r imageData"
      ],
      "execution_count": null,
      "outputs": []
    }
  ]
}