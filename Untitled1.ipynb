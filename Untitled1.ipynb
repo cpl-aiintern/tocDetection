{
 "cells": [
  {
   "cell_type": "code",
   "execution_count": 5,
   "metadata": {
    "colab": {
     "base_uri": "https://localhost:8080/",
     "height": 1000
    },
    "colab_type": "code",
    "id": "5ppanuaY1q47",
    "outputId": "fe79cc49-cfc5-4fcb-b76a-e525e0914b49"
   },
   "outputs": [
    {
     "name": "stdout",
     "output_type": "stream",
     "text": [
      "Cloning into 'mmdetection'...\n",
      "remote: Enumerating objects: 12599, done.\u001b[K\n",
      "remote: Total 12599 (delta 0), reused 0 (delta 0), pack-reused 12599\u001b[K\n",
      "Receiving objects: 100% (12599/12599), 11.54 MiB | 329.00 KiB/s, done.\n",
      "Resolving deltas: 100% (8653/8653), done.\n",
      "Note: checking out '0f33c08d8d46eba8165715a0995841a975badfd4'.\n",
      "\n",
      "You are in 'detached HEAD' state. You can look around, make experimental\n",
      "changes and commit them, and you can discard any commits you make in this\n",
      "state without impacting any branches by performing another checkout.\n",
      "\n",
      "If you want to create a new branch to retain commits you create, you may\n",
      "do so (now or later) by using -b with the checkout command again. Example:\n",
      "\n",
      "  git checkout -b <new-branch-name>\n",
      "\n",
      "/Volumes/Drive D/Dheya/Varun Scripts/Compliy/ToC extraction/mmdetection/mmdetection/mmdetection/mmdetection\n",
      "Requirement already satisfied: albumentations>=0.3.2 in /Library/Frameworks/Python.framework/Versions/3.8/lib/python3.8/site-packages (from -r requirements/optional.txt (line 1)) (0.4.6)\n",
      "Requirement already satisfied: cityscapesscripts in /Library/Frameworks/Python.framework/Versions/3.8/lib/python3.8/site-packages (from -r requirements/optional.txt (line 2)) (1.5.0)\n",
      "Requirement already satisfied: imagecorruptions in /Library/Frameworks/Python.framework/Versions/3.8/lib/python3.8/site-packages (from -r requirements/optional.txt (line 3)) (1.1.0)\n",
      "Requirement already satisfied: imgaug>=0.4.0 in /Library/Frameworks/Python.framework/Versions/3.8/lib/python3.8/site-packages (from albumentations>=0.3.2->-r requirements/optional.txt (line 1)) (0.4.0)\n",
      "Requirement already satisfied: scipy in /Library/Frameworks/Python.framework/Versions/3.8/lib/python3.8/site-packages (from albumentations>=0.3.2->-r requirements/optional.txt (line 1)) (1.4.1)\n",
      "Requirement already satisfied: opencv-python>=4.1.1 in /Library/Frameworks/Python.framework/Versions/3.8/lib/python3.8/site-packages (from albumentations>=0.3.2->-r requirements/optional.txt (line 1)) (4.3.0.36)\n",
      "Requirement already satisfied: numpy>=1.11.1 in /Library/Frameworks/Python.framework/Versions/3.8/lib/python3.8/site-packages (from albumentations>=0.3.2->-r requirements/optional.txt (line 1)) (1.19.0)\n",
      "Requirement already satisfied: PyYAML in /Library/Frameworks/Python.framework/Versions/3.8/lib/python3.8/site-packages (from albumentations>=0.3.2->-r requirements/optional.txt (line 1)) (5.3.1)\n",
      "Requirement already satisfied: pillow in /Library/Frameworks/Python.framework/Versions/3.8/lib/python3.8/site-packages (from cityscapesscripts->-r requirements/optional.txt (line 2)) (6.2.2)\n",
      "Requirement already satisfied: appdirs in /Library/Frameworks/Python.framework/Versions/3.8/lib/python3.8/site-packages (from cityscapesscripts->-r requirements/optional.txt (line 2)) (1.4.4)\n",
      "Requirement already satisfied: matplotlib in /Library/Frameworks/Python.framework/Versions/3.8/lib/python3.8/site-packages (from cityscapesscripts->-r requirements/optional.txt (line 2)) (3.3.0)\n",
      "Requirement already satisfied: scikit-image>=0.15 in /Library/Frameworks/Python.framework/Versions/3.8/lib/python3.8/site-packages (from imagecorruptions->-r requirements/optional.txt (line 3)) (0.17.2)\n",
      "Requirement already satisfied: imageio in /Library/Frameworks/Python.framework/Versions/3.8/lib/python3.8/site-packages (from imgaug>=0.4.0->albumentations>=0.3.2->-r requirements/optional.txt (line 1)) (2.9.0)\n",
      "Requirement already satisfied: six in /Users/sureshreddy/Library/Python/3.8/lib/python/site-packages (from imgaug>=0.4.0->albumentations>=0.3.2->-r requirements/optional.txt (line 1)) (1.15.0)\n",
      "Requirement already satisfied: Shapely in /Library/Frameworks/Python.framework/Versions/3.8/lib/python3.8/site-packages (from imgaug>=0.4.0->albumentations>=0.3.2->-r requirements/optional.txt (line 1)) (1.7.0)\n",
      "Requirement already satisfied: pyparsing!=2.0.4,!=2.1.2,!=2.1.6,>=2.0.3 in /Library/Frameworks/Python.framework/Versions/3.8/lib/python3.8/site-packages (from matplotlib->cityscapesscripts->-r requirements/optional.txt (line 2)) (2.4.7)\n",
      "Requirement already satisfied: python-dateutil>=2.1 in /Library/Frameworks/Python.framework/Versions/3.8/lib/python3.8/site-packages (from matplotlib->cityscapesscripts->-r requirements/optional.txt (line 2)) (2.8.1)\n",
      "Requirement already satisfied: cycler>=0.10 in /Library/Frameworks/Python.framework/Versions/3.8/lib/python3.8/site-packages (from matplotlib->cityscapesscripts->-r requirements/optional.txt (line 2)) (0.10.0)\n",
      "Requirement already satisfied: kiwisolver>=1.0.1 in /Library/Frameworks/Python.framework/Versions/3.8/lib/python3.8/site-packages (from matplotlib->cityscapesscripts->-r requirements/optional.txt (line 2)) (1.2.0)\n",
      "Requirement already satisfied: networkx>=2.0 in /Library/Frameworks/Python.framework/Versions/3.8/lib/python3.8/site-packages (from scikit-image>=0.15->imagecorruptions->-r requirements/optional.txt (line 3)) (2.4)\n",
      "Requirement already satisfied: PyWavelets>=1.1.1 in /Library/Frameworks/Python.framework/Versions/3.8/lib/python3.8/site-packages (from scikit-image>=0.15->imagecorruptions->-r requirements/optional.txt (line 3)) (1.1.1)\n",
      "Requirement already satisfied: tifffile>=2019.7.26 in /Library/Frameworks/Python.framework/Versions/3.8/lib/python3.8/site-packages (from scikit-image>=0.15->imagecorruptions->-r requirements/optional.txt (line 3)) (2020.7.24)\n",
      "Requirement already satisfied: decorator>=4.3.0 in /Library/Frameworks/Python.framework/Versions/3.8/lib/python3.8/site-packages (from networkx>=2.0->scikit-image>=0.15->imagecorruptions->-r requirements/optional.txt (line 3)) (4.4.2)\n",
      "Traceback (most recent call last):\n",
      "  File \"setup.py\", line 222, in <module>\n",
      "    make_cuda_ext(\n",
      "  File \"setup.py\", line 94, in make_cuda_ext\n",
      "    raise EnvironmentError('CUDA is required to compile MMDetection!')\n",
      "OSError: CUDA is required to compile MMDetection!\n",
      "Traceback (most recent call last):\n",
      "  File \"setup.py\", line 222, in <module>\n",
      "    make_cuda_ext(\n",
      "  File \"setup.py\", line 94, in make_cuda_ext\n",
      "    raise EnvironmentError('CUDA is required to compile MMDetection!')\n",
      "OSError: CUDA is required to compile MMDetection!\n",
      "Requirement already satisfied: numpy in /Library/Frameworks/Python.framework/Versions/3.8/lib/python3.8/site-packages (from -r requirements/build.txt (line 2)) (1.19.0)\n",
      "Requirement already satisfied: torch>=1.1 in /Library/Frameworks/Python.framework/Versions/3.8/lib/python3.8/site-packages (from -r requirements/build.txt (line 3)) (1.6.0)\n",
      "Requirement already satisfied: albumentations>=0.3.2 in /Library/Frameworks/Python.framework/Versions/3.8/lib/python3.8/site-packages (from -r requirements/optional.txt (line 1)) (0.4.6)\n",
      "Requirement already satisfied: cityscapesscripts in /Library/Frameworks/Python.framework/Versions/3.8/lib/python3.8/site-packages (from -r requirements/optional.txt (line 2)) (1.5.0)\n",
      "Requirement already satisfied: imagecorruptions in /Library/Frameworks/Python.framework/Versions/3.8/lib/python3.8/site-packages (from -r requirements/optional.txt (line 3)) (1.1.0)\n",
      "Requirement already satisfied: matplotlib in /Library/Frameworks/Python.framework/Versions/3.8/lib/python3.8/site-packages (from -r requirements/runtime.txt (line 1)) (3.3.0)\n",
      "Requirement already satisfied: mmcv>=0.3.1 in /Library/Frameworks/Python.framework/Versions/3.8/lib/python3.8/site-packages (from -r requirements/runtime.txt (line 2)) (1.0.5)\n",
      "Requirement already satisfied: Pillow<=6.2.2 in /Library/Frameworks/Python.framework/Versions/3.8/lib/python3.8/site-packages (from -r requirements/runtime.txt (line 5)) (6.2.2)\n",
      "Requirement already satisfied: six in /Users/sureshreddy/Library/Python/3.8/lib/python/site-packages (from -r requirements/runtime.txt (line 6)) (1.15.0)\n",
      "Requirement already satisfied: terminaltables in /Library/Frameworks/Python.framework/Versions/3.8/lib/python3.8/site-packages (from -r requirements/runtime.txt (line 7)) (3.1.0)\n",
      "Requirement already satisfied: torchvision in /Library/Frameworks/Python.framework/Versions/3.8/lib/python3.8/site-packages (from -r requirements/runtime.txt (line 9)) (0.7.0)\n",
      "Requirement already satisfied: asynctest in /Library/Frameworks/Python.framework/Versions/3.8/lib/python3.8/site-packages (from -r requirements/tests.txt (line 1)) (0.13.0)\n",
      "Requirement already satisfied: codecov in /Library/Frameworks/Python.framework/Versions/3.8/lib/python3.8/site-packages (from -r requirements/tests.txt (line 2)) (2.1.8)\n"
     ]
    },
    {
     "name": "stdout",
     "output_type": "stream",
     "text": [
      "Requirement already satisfied: flake8 in /Library/Frameworks/Python.framework/Versions/3.8/lib/python3.8/site-packages (from -r requirements/tests.txt (line 3)) (3.8.3)\n",
      "Requirement already satisfied: isort in /Users/sureshreddy/Library/Python/3.8/lib/python/site-packages (from -r requirements/tests.txt (line 4)) (4.3.21)\n",
      "Requirement already satisfied: kwarray in /Library/Frameworks/Python.framework/Versions/3.8/lib/python3.8/site-packages (from -r requirements/tests.txt (line 6)) (0.5.9)\n",
      "Requirement already satisfied: pytest in /Library/Frameworks/Python.framework/Versions/3.8/lib/python3.8/site-packages (from -r requirements/tests.txt (line 7)) (6.0.1)\n",
      "Requirement already satisfied: pytest-cov in /Library/Frameworks/Python.framework/Versions/3.8/lib/python3.8/site-packages (from -r requirements/tests.txt (line 8)) (2.10.0)\n",
      "Requirement already satisfied: pytest-runner in /Library/Frameworks/Python.framework/Versions/3.8/lib/python3.8/site-packages (from -r requirements/tests.txt (line 9)) (5.2)\n",
      "Requirement already satisfied: ubelt in /Library/Frameworks/Python.framework/Versions/3.8/lib/python3.8/site-packages (from -r requirements/tests.txt (line 10)) (0.9.1)\n",
      "Requirement already satisfied: xdoctest>=0.10.0 in /Library/Frameworks/Python.framework/Versions/3.8/lib/python3.8/site-packages (from -r requirements/tests.txt (line 11)) (0.13.0)\n",
      "Requirement already satisfied: yapf in /Library/Frameworks/Python.framework/Versions/3.8/lib/python3.8/site-packages (from -r requirements/tests.txt (line 12)) (0.30.0)\n",
      "Requirement already satisfied: future in /Library/Frameworks/Python.framework/Versions/3.8/lib/python3.8/site-packages (from torch>=1.1->-r requirements/build.txt (line 3)) (0.18.2)\n",
      "Requirement already satisfied: scipy in /Library/Frameworks/Python.framework/Versions/3.8/lib/python3.8/site-packages (from albumentations>=0.3.2->-r requirements/optional.txt (line 1)) (1.4.1)\n",
      "Requirement already satisfied: opencv-python>=4.1.1 in /Library/Frameworks/Python.framework/Versions/3.8/lib/python3.8/site-packages (from albumentations>=0.3.2->-r requirements/optional.txt (line 1)) (4.3.0.36)\n",
      "Requirement already satisfied: PyYAML in /Library/Frameworks/Python.framework/Versions/3.8/lib/python3.8/site-packages (from albumentations>=0.3.2->-r requirements/optional.txt (line 1)) (5.3.1)\n",
      "Requirement already satisfied: imgaug>=0.4.0 in /Library/Frameworks/Python.framework/Versions/3.8/lib/python3.8/site-packages (from albumentations>=0.3.2->-r requirements/optional.txt (line 1)) (0.4.0)\n",
      "Requirement already satisfied: appdirs in /Library/Frameworks/Python.framework/Versions/3.8/lib/python3.8/site-packages (from cityscapesscripts->-r requirements/optional.txt (line 2)) (1.4.4)\n",
      "Requirement already satisfied: scikit-image>=0.15 in /Library/Frameworks/Python.framework/Versions/3.8/lib/python3.8/site-packages (from imagecorruptions->-r requirements/optional.txt (line 3)) (0.17.2)\n",
      "Requirement already satisfied: pyparsing!=2.0.4,!=2.1.2,!=2.1.6,>=2.0.3 in /Library/Frameworks/Python.framework/Versions/3.8/lib/python3.8/site-packages (from matplotlib->-r requirements/runtime.txt (line 1)) (2.4.7)\n",
      "Requirement already satisfied: python-dateutil>=2.1 in /Library/Frameworks/Python.framework/Versions/3.8/lib/python3.8/site-packages (from matplotlib->-r requirements/runtime.txt (line 1)) (2.8.1)\n",
      "Requirement already satisfied: cycler>=0.10 in /Library/Frameworks/Python.framework/Versions/3.8/lib/python3.8/site-packages (from matplotlib->-r requirements/runtime.txt (line 1)) (0.10.0)\n",
      "Requirement already satisfied: kiwisolver>=1.0.1 in /Library/Frameworks/Python.framework/Versions/3.8/lib/python3.8/site-packages (from matplotlib->-r requirements/runtime.txt (line 1)) (1.2.0)\n",
      "Requirement already satisfied: addict in /Library/Frameworks/Python.framework/Versions/3.8/lib/python3.8/site-packages (from mmcv>=0.3.1->-r requirements/runtime.txt (line 2)) (2.2.1)\n",
      "Requirement already satisfied: coverage in /Library/Frameworks/Python.framework/Versions/3.8/lib/python3.8/site-packages (from codecov->-r requirements/tests.txt (line 2)) (5.2.1)\n",
      "Requirement already satisfied: requests>=2.7.9 in /Library/Frameworks/Python.framework/Versions/3.8/lib/python3.8/site-packages (from codecov->-r requirements/tests.txt (line 2)) (2.24.0)\n",
      "Requirement already satisfied: pycodestyle<2.7.0,>=2.6.0a1 in /Users/sureshreddy/Library/Python/3.8/lib/python/site-packages (from flake8->-r requirements/tests.txt (line 3)) (2.6.0)\n",
      "Requirement already satisfied: mccabe<0.7.0,>=0.6.0 in /Users/sureshreddy/Library/Python/3.8/lib/python/site-packages (from flake8->-r requirements/tests.txt (line 3)) (0.6.1)\n",
      "Requirement already satisfied: pyflakes<2.3.0,>=2.2.0 in /Library/Frameworks/Python.framework/Versions/3.8/lib/python3.8/site-packages (from flake8->-r requirements/tests.txt (line 3)) (2.2.0)\n",
      "Requirement already satisfied: pandas in /Library/Frameworks/Python.framework/Versions/3.8/lib/python3.8/site-packages (from kwarray->-r requirements/tests.txt (line 6)) (1.1.0)\n",
      "Requirement already satisfied: packaging in /Library/Frameworks/Python.framework/Versions/3.8/lib/python3.8/site-packages (from pytest->-r requirements/tests.txt (line 7)) (20.4)\n",
      "Requirement already satisfied: iniconfig in /Library/Frameworks/Python.framework/Versions/3.8/lib/python3.8/site-packages (from pytest->-r requirements/tests.txt (line 7)) (1.0.1)\n",
      "Requirement already satisfied: py>=1.8.2 in /Library/Frameworks/Python.framework/Versions/3.8/lib/python3.8/site-packages (from pytest->-r requirements/tests.txt (line 7)) (1.9.0)\n",
      "Requirement already satisfied: more-itertools>=4.0.0 in /Library/Frameworks/Python.framework/Versions/3.8/lib/python3.8/site-packages (from pytest->-r requirements/tests.txt (line 7)) (8.4.0)\n",
      "Requirement already satisfied: toml in /Users/sureshreddy/Library/Python/3.8/lib/python/site-packages (from pytest->-r requirements/tests.txt (line 7)) (0.10.1)\n",
      "Requirement already satisfied: pluggy<1.0,>=0.12 in /Library/Frameworks/Python.framework/Versions/3.8/lib/python3.8/site-packages (from pytest->-r requirements/tests.txt (line 7)) (0.13.1)\n",
      "Requirement already satisfied: attrs>=17.4.0 in /Library/Frameworks/Python.framework/Versions/3.8/lib/python3.8/site-packages (from pytest->-r requirements/tests.txt (line 7)) (19.3.0)\n",
      "Requirement already satisfied: ordered-set in /Library/Frameworks/Python.framework/Versions/3.8/lib/python3.8/site-packages (from ubelt->-r requirements/tests.txt (line 10)) (4.0.2)\n",
      "Requirement already satisfied: Shapely in /Library/Frameworks/Python.framework/Versions/3.8/lib/python3.8/site-packages (from imgaug>=0.4.0->albumentations>=0.3.2->-r requirements/optional.txt (line 1)) (1.7.0)\n",
      "Requirement already satisfied: imageio in /Library/Frameworks/Python.framework/Versions/3.8/lib/python3.8/site-packages (from imgaug>=0.4.0->albumentations>=0.3.2->-r requirements/optional.txt (line 1)) (2.9.0)\n",
      "Requirement already satisfied: PyWavelets>=1.1.1 in /Library/Frameworks/Python.framework/Versions/3.8/lib/python3.8/site-packages (from scikit-image>=0.15->imagecorruptions->-r requirements/optional.txt (line 3)) (1.1.1)\n",
      "Requirement already satisfied: tifffile>=2019.7.26 in /Library/Frameworks/Python.framework/Versions/3.8/lib/python3.8/site-packages (from scikit-image>=0.15->imagecorruptions->-r requirements/optional.txt (line 3)) (2020.7.24)\n",
      "Requirement already satisfied: networkx>=2.0 in /Library/Frameworks/Python.framework/Versions/3.8/lib/python3.8/site-packages (from scikit-image>=0.15->imagecorruptions->-r requirements/optional.txt (line 3)) (2.4)\n",
      "Requirement already satisfied: chardet<4,>=3.0.2 in /Library/Frameworks/Python.framework/Versions/3.8/lib/python3.8/site-packages (from requests>=2.7.9->codecov->-r requirements/tests.txt (line 2)) (3.0.4)\n",
      "Requirement already satisfied: certifi>=2017.4.17 in /Library/Frameworks/Python.framework/Versions/3.8/lib/python3.8/site-packages (from requests>=2.7.9->codecov->-r requirements/tests.txt (line 2)) (2020.6.20)\n",
      "Requirement already satisfied: idna<3,>=2.5 in /Library/Frameworks/Python.framework/Versions/3.8/lib/python3.8/site-packages (from requests>=2.7.9->codecov->-r requirements/tests.txt (line 2)) (2.10)\n",
      "Requirement already satisfied: urllib3!=1.25.0,!=1.25.1,<1.26,>=1.21.1 in /Library/Frameworks/Python.framework/Versions/3.8/lib/python3.8/site-packages (from requests>=2.7.9->codecov->-r requirements/tests.txt (line 2)) (1.25.9)\n"
     ]
    },
    {
     "name": "stdout",
     "output_type": "stream",
     "text": [
      "Requirement already satisfied: pytz>=2017.2 in /Library/Frameworks/Python.framework/Versions/3.8/lib/python3.8/site-packages (from pandas->kwarray->-r requirements/tests.txt (line 6)) (2020.1)\n",
      "Requirement already satisfied: decorator>=4.3.0 in /Library/Frameworks/Python.framework/Versions/3.8/lib/python3.8/site-packages (from networkx>=2.0->scikit-image>=0.15->imagecorruptions->-r requirements/optional.txt (line 3)) (4.4.2)\n",
      "Cloning into 'CascadeTabNet'...\n",
      "remote: Enumerating objects: 3, done.\u001b[K\n",
      "remote: Counting objects: 100% (3/3), done.\u001b[K\n",
      "remote: Compressing objects: 100% (3/3), done.\u001b[K\n",
      "remote: Total 625 (delta 0), reused 0 (delta 0), pack-reused 622\u001b[K\n",
      "Receiving objects: 100% (625/625), 16.54 MiB | 374.00 KiB/s, done.\n",
      "Resolving deltas: 100% (304/304), done.\n",
      "Checking out files: 100% (60/60), done.\n",
      "Requirement already satisfied: pdf2image in /Library/Frameworks/Python.framework/Versions/3.8/lib/python3.8/site-packages (1.13.1)\n",
      "Requirement already satisfied: pillow in /Library/Frameworks/Python.framework/Versions/3.8/lib/python3.8/site-packages (from pdf2image) (6.2.2)\n",
      "Requirement already satisfied: pdfminer in /Library/Frameworks/Python.framework/Versions/3.8/lib/python3.8/site-packages (20191125)\n",
      "Requirement already satisfied: pycryptodome in /Library/Frameworks/Python.framework/Versions/3.8/lib/python3.8/site-packages (from pdfminer) (3.9.8)\n"
     ]
    }
   ],
   "source": [
    "# !pip install torch==1.4.0+cu100 torchvision==0.5.0+cu100 -f https://download.pytorch.org/whl/torch_stable.html\n",
    "!pip3 install -q mmcv-full terminaltables pillow\n",
    "!git clone --branch v1.2.0 'https://github.com/open-mmlab/mmdetection.git'\n",
    "%cd \"mmdetection\"\n",
    "!pip3 install -r \"requirements/optional.txt\"\n",
    "!python3 setup.py install\n",
    "!python3 setup.py develop\n",
    "!pip3 install -r {\"requirements.txt\"}\n",
    "!git clone https://github.com/DevashishPrasad/CascadeTabNet.git\n",
    "# !gdown \"https://drive.google.com/u/0/uc?id=1-QieHkR1Q7CXuBu4fp3rYrvDG9j26eFT\"\n",
    "# !unzip tesing_pdfs.zip\n",
    "!pip3 install pdf2image\n",
    "!pip3 install pdfminer\n",
    "# !apt-get install poppler-utils"
   ]
  },
  {
   "cell_type": "code",
   "execution_count": 4,
   "metadata": {
    "colab": {},
    "colab_type": "code",
    "id": "ndl_XB0MVgPd"
   },
   "outputs": [
    {
     "ename": "ModuleNotFoundError",
     "evalue": "No module named 'mmdet.version'",
     "output_type": "error",
     "traceback": [
      "\u001b[0;31m---------------------------------------------------------------------------\u001b[0m",
      "\u001b[0;31mModuleNotFoundError\u001b[0m                       Traceback (most recent call last)",
      "\u001b[0;32m<ipython-input-4-813fb7cdab23>\u001b[0m in \u001b[0;36m<module>\u001b[0;34m\u001b[0m\n\u001b[0;32m----> 1\u001b[0;31m \u001b[0;32mfrom\u001b[0m \u001b[0mmmdet\u001b[0m\u001b[0;34m.\u001b[0m\u001b[0mapis\u001b[0m \u001b[0;32mimport\u001b[0m \u001b[0minit_detector\u001b[0m\u001b[0;34m,\u001b[0m \u001b[0minference_detector\u001b[0m\u001b[0;34m,\u001b[0m \u001b[0mshow_result_pyplot\u001b[0m\u001b[0;34m,\u001b[0m\u001b[0mshow_result\u001b[0m\u001b[0;34m\u001b[0m\u001b[0;34m\u001b[0m\u001b[0m\n\u001b[0m\u001b[1;32m      2\u001b[0m \u001b[0;32mimport\u001b[0m \u001b[0mmmcv\u001b[0m\u001b[0;34m\u001b[0m\u001b[0;34m\u001b[0m\u001b[0m\n",
      "\u001b[0;32m/Volumes/Drive D/Dheya/Varun Scripts/Compliy/ToC extraction/mmdetection/mmdetection/mmdetection/mmdet/__init__.py\u001b[0m in \u001b[0;36m<module>\u001b[0;34m\u001b[0m\n\u001b[0;32m----> 1\u001b[0;31m \u001b[0;32mfrom\u001b[0m \u001b[0;34m.\u001b[0m\u001b[0mversion\u001b[0m \u001b[0;32mimport\u001b[0m \u001b[0m__version__\u001b[0m\u001b[0;34m,\u001b[0m \u001b[0mshort_version\u001b[0m\u001b[0;34m\u001b[0m\u001b[0;34m\u001b[0m\u001b[0m\n\u001b[0m\u001b[1;32m      2\u001b[0m \u001b[0;34m\u001b[0m\u001b[0m\n\u001b[1;32m      3\u001b[0m \u001b[0m__all__\u001b[0m \u001b[0;34m=\u001b[0m \u001b[0;34m[\u001b[0m\u001b[0;34m'__version__'\u001b[0m\u001b[0;34m,\u001b[0m \u001b[0;34m'short_version'\u001b[0m\u001b[0;34m]\u001b[0m\u001b[0;34m\u001b[0m\u001b[0;34m\u001b[0m\u001b[0m\n",
      "\u001b[0;31mModuleNotFoundError\u001b[0m: No module named 'mmdet.version'"
     ]
    }
   ],
   "source": [
    "from mmdet.apis import init_detector, inference_detector, show_result_pyplot,show_result\n",
    "import mmcv"
   ]
  },
  {
   "cell_type": "code",
   "execution_count": 1,
   "metadata": {},
   "outputs": [],
   "source": [
    "import numpy as np\n",
    "from utils import pdf2xml,pdf2img\n",
    "import os"
   ]
  },
  {
   "cell_type": "code",
   "execution_count": 2,
   "metadata": {},
   "outputs": [],
   "source": [
    "pdfFiles = os.listdir('pdfData')\n",
    "\n",
    "for file in pdfFiles:\n",
    "    try:\n",
    "        pdf2xml(file)\n",
    "    except Exception:\n",
    "        print(file,\"cannot be parsed into XML\")\n",
    "    try:\n",
    "        pdf2img(file)\n",
    "    except Exception:\n",
    "        print(file,\"cannot be converted into image\")"
   ]
  },
  {
   "cell_type": "code",
   "execution_count": null,
   "metadata": {},
   "outputs": [],
   "source": [
    "# Load model\n",
    "config_file = '/content/CascadeTabNet/Config/cascade_mask_rcnn_hrnetv2p_w32_20e.py'\n",
    "checkpoint_file = '/content/epoch_36.pth'\n",
    "model = init_detector(config_file, checkpoint_file, device='cuda:0')\n",
    "\n",
    "# Test a single image \n",
    "img = \"/content/CascadeTabNet/Demo/demo.png\"\n",
    "\n",
    "# Run Inference\n",
    "result = inference_detector(model, img)\n",
    "\n",
    "# Visualization results\n",
    "show_result_pyplot(img, result,('Bordered', 'cell', 'Borderless'), score_thr=0.85)"
   ]
  },
  {
   "cell_type": "code",
   "execution_count": null,
   "metadata": {
    "colab": {},
    "colab_type": "code",
    "id": "mviWkE9-jidx"
   },
   "outputs": [],
   "source": [
    "!mv tesing_pdfs pdfData"
   ]
  },
  {
   "cell_type": "code",
   "execution_count": null,
   "metadata": {
    "colab": {
     "base_uri": "https://localhost:8080/",
     "height": 50
    },
    "colab_type": "code",
    "id": "gUfuFgNFVukC",
    "outputId": "b5b0cf66-401a-4157-bbbf-bfe2bee23aa7"
   },
   "outputs": [],
   "source": [
    "bbox_result,segm_result = result\n",
    "bboxes = np.vstack(bbox_result)\n",
    "labels = [np.full(bbox.shape[0],i,dtype=np.int32) for i,bbox in enumerate(bbox_result)]\n",
    "labels = np.concatenate(labels)\n"
   ]
  },
  {
   "cell_type": "code",
   "execution_count": null,
   "metadata": {
    "colab": {},
    "colab_type": "code",
    "id": "H7xqXZ_3tGWH"
   },
   "outputs": [],
   "source": [
    "!rm -r xmlData\n",
    "!rm -r imageData"
   ]
  },
  {
   "cell_type": "code",
   "execution_count": null,
   "metadata": {
    "colab": {
     "base_uri": "https://localhost:8080/",
     "height": 147
    },
    "colab_type": "code",
    "id": "sGHDytTCjggG",
    "outputId": "bcd00b5d-ef71-4846-f91a-7c5d2f04de46"
   },
   "outputs": [],
   "source": []
  },
  {
   "cell_type": "code",
   "execution_count": null,
   "metadata": {
    "colab": {},
    "colab_type": "code",
    "id": "9QrnQJgpmHh2"
   },
   "outputs": [],
   "source": []
  },
  {
   "cell_type": "code",
   "execution_count": null,
   "metadata": {
    "colab": {},
    "colab_type": "code",
    "id": "T1rh6pBAmx9_"
   },
   "outputs": [],
   "source": []
  }
 ],
 "metadata": {
  "accelerator": "GPU",
  "colab": {
   "collapsed_sections": [],
   "name": "Untitled1.ipynb",
   "provenance": []
  },
  "kernelspec": {
   "display_name": "Python 3",
   "language": "python",
   "name": "python3"
  },
  "language_info": {
   "codemirror_mode": {
    "name": "ipython",
    "version": 3
   },
   "file_extension": ".py",
   "mimetype": "text/x-python",
   "name": "python",
   "nbconvert_exporter": "python",
   "pygments_lexer": "ipython3",
   "version": "3.8.3"
  }
 },
 "nbformat": 4,
 "nbformat_minor": 1
}
